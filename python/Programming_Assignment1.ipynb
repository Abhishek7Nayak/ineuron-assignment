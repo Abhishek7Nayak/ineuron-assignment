{
 "cells": [
  {
   "cell_type": "markdown",
   "metadata": {},
   "source": [
    "1. Write a Python program to print \"Hello Python\"?"
   ]
  },
  {
   "cell_type": "code",
   "execution_count": 2,
   "metadata": {},
   "outputs": [
    {
     "name": "stdout",
     "output_type": "stream",
     "text": [
      "Hello Python\n"
     ]
    }
   ],
   "source": [
    "print(\"Hello Python\")"
   ]
  },
  {
   "cell_type": "markdown",
   "metadata": {},
   "source": [
    "2. Write a Python program to do arithmetical operations addition and division.?"
   ]
  },
  {
   "cell_type": "code",
   "execution_count": 14,
   "metadata": {},
   "outputs": [
    {
     "name": "stdout",
     "output_type": "stream",
     "text": [
      "Enter an integer : 1\n",
      "Enter another integer2\n",
      "Addition of the given numbers  3\n",
      "division of the given numbers  0.5\n"
     ]
    }
   ],
   "source": [
    "a = int(input(\"Enter an integer : \"))\n",
    "b = int(input(\"Enter another integer\"))\n",
    "addition = a + b\n",
    "division = a / b\n",
    "print(\"Addition of the given numbers \", addition)\n",
    "print(\"division of the given numbers \", division)"
   ]
  },
  {
   "cell_type": "markdown",
   "metadata": {},
   "source": [
    "3. Write a Python program to find the area of a triangle?"
   ]
  },
  {
   "cell_type": "code",
   "execution_count": 20,
   "metadata": {},
   "outputs": [
    {
     "data": {
      "text/plain": [
       "'#####AREA of the Triangle#####'"
      ]
     },
     "execution_count": 20,
     "metadata": {},
     "output_type": "execute_result"
    }
   ],
   "source": [
    "s = \"AREA of the Triangle\"\n",
    "s.center(30,'#')"
   ]
  },
  {
   "cell_type": "code",
   "execution_count": 19,
   "metadata": {},
   "outputs": [
    {
     "name": "stdout",
     "output_type": "stream",
     "text": [
      "Enter the height of the triangle : 4\n",
      "Enter the base of the triangle : 4\n",
      " The area of the triangle with height 4 and base 4 is  8.0\n"
     ]
    }
   ],
   "source": [
    "height = int(input(\"Enter the height of the triangle : \"))\n",
    "base= int(input(\"Enter the base of the triangle : \"))\n",
    "\n",
    "area = 0.5 * height * base\n",
    "print(\" The area of the triangle with height\", height, \"and base\", base, \"is \", area)"
   ]
  },
  {
   "cell_type": "markdown",
   "metadata": {},
   "source": [
    "4. Write a Python program to swap two variables?"
   ]
  },
  {
   "cell_type": "code",
   "execution_count": 23,
   "metadata": {},
   "outputs": [
    {
     "name": "stdout",
     "output_type": "stream",
     "text": [
      "Enter the first value : 3\n",
      "Enter the second value : 2\n",
      "Before swaping the values\n",
      "This is the first value 3\n",
      "This is the second value 2\n",
      "After swaping the values\n",
      "This is the first value 2\n",
      "This is the second value 3\n"
     ]
    }
   ],
   "source": [
    "first = int(input(\"Enter the first value : \"))\n",
    "second = int(input(\"Enter the second value : \"))\n",
    "print(\"Before swaping the values\")\n",
    "print(\"This is the first value\",first)\n",
    "print(\"This is the second value\",second)\n",
    "\n",
    "third = first\n",
    "first = second\n",
    "second = third\n",
    "print(\"After swaping the values\")\n",
    "print(\"This is the first value\",first)\n",
    "print(\"This is the second value\",second)"
   ]
  },
  {
   "cell_type": "markdown",
   "metadata": {},
   "source": [
    "5. Write a Python program to generate a random number?"
   ]
  },
  {
   "cell_type": "code",
   "execution_count": 31,
   "metadata": {},
   "outputs": [
    {
     "name": "stdout",
     "output_type": "stream",
     "text": [
      "Enter the upper bound to generate a random number : 1\n",
      "Enter the lower bound to generate a random number : 9\n",
      "Here is the random number generated :  5\n"
     ]
    }
   ],
   "source": [
    "upper = int(input(\"Enter the upper bound to generate a random number : \"))\n",
    "lower = int(input(\"Enter the lower bound to generate a random number : \"))\n",
    "\n",
    "import random\n",
    "print(\"Here is the random number generated : \",random.randint(upper,lower))\n"
   ]
  },
  {
   "cell_type": "code",
   "execution_count": null,
   "metadata": {},
   "outputs": [],
   "source": []
  }
 ],
 "metadata": {
  "kernelspec": {
   "display_name": "Python 3",
   "language": "python",
   "name": "python3"
  },
  "language_info": {
   "codemirror_mode": {
    "name": "ipython",
    "version": 3
   },
   "file_extension": ".py",
   "mimetype": "text/x-python",
   "name": "python",
   "nbconvert_exporter": "python",
   "pygments_lexer": "ipython3",
   "version": "3.6.5"
  }
 },
 "nbformat": 4,
 "nbformat_minor": 2
}
