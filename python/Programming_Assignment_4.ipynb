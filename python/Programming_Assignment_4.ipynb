{
  "nbformat": 4,
  "nbformat_minor": 0,
  "metadata": {
    "colab": {
      "name": "Programming_Assignment_4.ipynb",
      "provenance": []
    },
    "kernelspec": {
      "name": "python3",
      "display_name": "Python 3"
    },
    "language_info": {
      "name": "python"
    }
  },
  "cells": [
    {
      "cell_type": "code",
      "execution_count": null,
      "metadata": {
        "id": "ROg_R9IC6RpP"
      },
      "outputs": [],
      "source": [
        "## 1. Write a Python Program to Find the Factorial of a Number?"
      ]
    },
    {
      "cell_type": "code",
      "source": [
        "num = int(input(\"Enter an integer to find the factorial : \"))\n",
        "fact = 1\n",
        "for i in range(num,1,-1):\n",
        "  fact= i * fact\n",
        "print(\"The factorial for integer \",num,\"is : \",fact)\n"
      ],
      "metadata": {
        "colab": {
          "base_uri": "https://localhost:8080/"
        },
        "id": "U1gjLavG65gQ",
        "outputId": "f1b91622-3e91-4394-8d68-88257dea43df"
      },
      "execution_count": null,
      "outputs": [
        {
          "output_type": "stream",
          "name": "stdout",
          "text": [
            "Enter an integer to find the factorial : 4\n",
            "The factorial for integer  4 is :  24\n"
          ]
        }
      ]
    },
    {
      "cell_type": "code",
      "source": [
        "## 2. Write a Python Program to Display the multiplication Table?"
      ],
      "metadata": {
        "id": "8Kq_B6TZ7vcP"
      },
      "execution_count": null,
      "outputs": []
    },
    {
      "cell_type": "code",
      "source": [
        "num = int(input(\"Enter a integer to print its multiplication table: \"))\n",
        "for i in range(1,11):\n",
        "  print(i,\"X\",num,\"=\",i*num)"
      ],
      "metadata": {
        "colab": {
          "base_uri": "https://localhost:8080/"
        },
        "id": "LeqctNap8Knu",
        "outputId": "646bdb6c-9878-4635-e1c6-ba2fc280aaf3"
      },
      "execution_count": null,
      "outputs": [
        {
          "output_type": "stream",
          "name": "stdout",
          "text": [
            "Enter a integer to print its multiplication table: 11\n",
            "1 X 11 = 11\n",
            "2 X 11 = 22\n",
            "3 X 11 = 33\n",
            "4 X 11 = 44\n",
            "5 X 11 = 55\n",
            "6 X 11 = 66\n",
            "7 X 11 = 77\n",
            "8 X 11 = 88\n",
            "9 X 11 = 99\n",
            "10 X 11 = 110\n"
          ]
        }
      ]
    },
    {
      "cell_type": "code",
      "source": [
        "## 3. Write a Python Program to Print the Fibonacci sequence?"
      ],
      "metadata": {
        "id": "GzKQhSvx8s4A"
      },
      "execution_count": null,
      "outputs": []
    },
    {
      "cell_type": "code",
      "source": [
        "num = int(input(\"Enter the number of Fibonacci sequence : \"))\n",
        "list = [0,1]\n",
        "a = 0\n",
        "b = 1\n",
        "\n",
        "for i in range(num-2):\n",
        "  c = a + b\n",
        "  a = b\n",
        "  b = c\n",
        "  list.append(c)\n",
        "print(list)\n"
      ],
      "metadata": {
        "colab": {
          "base_uri": "https://localhost:8080/"
        },
        "id": "G5xzYnV49GdZ",
        "outputId": "e003cdd9-f80a-4ef7-dc73-66838ebe9c23"
      },
      "execution_count": null,
      "outputs": [
        {
          "output_type": "stream",
          "name": "stdout",
          "text": [
            "Enter the number of Fibonacci sequence : 4\n",
            "[0, 1, 1, 2]\n"
          ]
        }
      ]
    },
    {
      "cell_type": "code",
      "source": [
        "## 4. Write a Python Program to Check Armstrong Number?"
      ],
      "metadata": {
        "id": "hTKg8vI_-iwZ"
      },
      "execution_count": 1,
      "outputs": []
    },
    {
      "cell_type": "code",
      "source": [
        "n = int(input(\"Enter a number to check if it is an Armstrong number : \"))\n",
        "c = 0\n",
        "n1 = n\n",
        "n3 = n\n",
        "s = 0\n",
        "while (n > 0):\n",
        "  n = n // 10\n",
        "  c = c +1 \n",
        "while(n1 > 0):\n",
        "  r=n1 % 10\n",
        "  s =s + r **c\n",
        "  n1 = n1 // 10\n",
        "if n3 == s:\n",
        "  print(\"The entered number is an Armstrong number\")\n",
        "else:\n",
        "  print(\"The entered number is not an Armstrong number\")"
      ],
      "metadata": {
        "colab": {
          "base_uri": "https://localhost:8080/"
        },
        "id": "_A5SyE2UDprw",
        "outputId": "7961e3b7-379d-4643-84e5-19a9ca426bf9"
      },
      "execution_count": 8,
      "outputs": [
        {
          "output_type": "stream",
          "name": "stdout",
          "text": [
            "Enter a number to check if it is an Armstrong number : 153\n",
            "The entered number is an Armstrong number\n"
          ]
        }
      ]
    },
    {
      "cell_type": "code",
      "source": [
        "## 5. Write a Python Program to Find Armstrong Number in an Interval?\n"
      ],
      "metadata": {
        "id": "cllsind7Dt6M"
      },
      "execution_count": 9,
      "outputs": []
    },
    {
      "cell_type": "code",
      "source": [
        "l = []\n",
        "i = int(input(\"Enter the range for the Armstrong Number : \"))\n",
        "for n in range(i+1):\n",
        "  c = 0\n",
        "  n1 = n\n",
        "  n3 = n\n",
        "  s = 0\n",
        "  while (n > 0):\n",
        "    n = n // 10\n",
        "    c = c +1 \n",
        "  while(n1 > 0):\n",
        "    r=n1 % 10\n",
        "    s =s + r **c\n",
        "    n1 = n1 // 10\n",
        "  if n3 == s:\n",
        "    l.append(n3)\n",
        "print(\"The Armstrong numbers are : \")\n",
        "print(l)"
      ],
      "metadata": {
        "colab": {
          "base_uri": "https://localhost:8080/"
        },
        "id": "Sdh2OQEf9ArS",
        "outputId": "d5f5c492-cbd3-45ec-80e2-28f876c6005e"
      },
      "execution_count": 16,
      "outputs": [
        {
          "output_type": "stream",
          "name": "stdout",
          "text": [
            "Enter the range for the Armstrong Number : 153\n",
            "The Armstrong numbers are : \n",
            "[0, 1, 2, 3, 4, 5, 6, 7, 8, 9, 153]\n"
          ]
        }
      ]
    },
    {
      "cell_type": "code",
      "source": [
        "## 6. Write a Python Program to Find the Sum of Natural Numbers?"
      ],
      "metadata": {
        "id": "ucLOH90b9uOX"
      },
      "execution_count": 12,
      "outputs": []
    },
    {
      "cell_type": "code",
      "source": [
        "n = int(input(\"Enter the range of Natural Numbers : \"))\n",
        "sum =0\n",
        "for i in range(1,n+1):\n",
        "  sum = i + sum\n",
        "print(\"The sum of \", n, \"Natural numbers is\",sum)\n"
      ],
      "metadata": {
        "id": "l2e7hNZRG3vK",
        "colab": {
          "base_uri": "https://localhost:8080/"
        },
        "outputId": "bb6a3969-e6f8-4a98-c779-84520b4cd81f"
      },
      "execution_count": 15,
      "outputs": [
        {
          "output_type": "stream",
          "name": "stdout",
          "text": [
            "Enter the range of Natural Numbers : 3\n",
            "The sum of  3 Natural numbers is 6\n"
          ]
        }
      ]
    },
    {
      "cell_type": "code",
      "source": [
        ""
      ],
      "metadata": {
        "id": "p48A8Zj2_e6l"
      },
      "execution_count": null,
      "outputs": []
    }
  ]
}