{
  "cells": [
    {
      "cell_type": "markdown",
      "metadata": {
        "id": "iNLfEoQpFroo"
      },
      "source": [
        "1. Write a Python program to convert kilometers to miles?"
      ]
    },
    {
      "cell_type": "code",
      "execution_count": null,
      "metadata": {
        "id": "f3H6uex8Fros",
        "outputId": "291a2dd6-c6e8-4ca6-9907-711c32eef0c3"
      },
      "outputs": [
        {
          "name": "stdout",
          "output_type": "stream",
          "text": [
            "Enter the kilometers : 7\n",
            "7 kilometer is equal to 4.349597 miles\n"
          ]
        }
      ],
      "source": [
        "km = int(input(\"Enter the kilometers : \"))\n",
        "mi = km * 0.621371\n",
        "print(km, \"kilometer is equal to\",mi,\"miles\")"
      ]
    },
    {
      "cell_type": "markdown",
      "metadata": {
        "id": "VwtQ7mUWFrou"
      },
      "source": [
        "2. Write a Python program to convert Celsius to Fahrenheit?"
      ]
    },
    {
      "cell_type": "code",
      "execution_count": null,
      "metadata": {
        "id": "hqig_BLSFrov",
        "outputId": "b7010d58-73cb-44a9-9edd-9c0ef4d4fb26"
      },
      "outputs": [
        {
          "name": "stdout",
          "output_type": "stream",
          "text": [
            "Enter the degree Celsius: 10\n",
            "10 Celsius is equal to 50.0 Fahrenheit\n"
          ]
        }
      ],
      "source": [
        "cel = int(input(\"Enter the degree Celsius: \"))\n",
        "F = (cel * (9/5)) + 32\n",
        "print(cel,\"Celsius is equal to\",F,\"Fahrenheit\")"
      ]
    },
    {
      "cell_type": "code",
      "execution_count": null,
      "metadata": {
        "id": "i-NCrtJFFrov"
      },
      "outputs": [],
      "source": [
        "\n",
        "\n"
      ]
    },
    {
      "cell_type": "markdown",
      "metadata": {
        "id": "6s8UN5clFrow"
      },
      "source": [
        "3. Write a Python program to display calendar?"
      ]
    },
    {
      "cell_type": "code",
      "execution_count": null,
      "metadata": {
        "id": "77_GCcImFrow",
        "outputId": "54d04d98-c7a5-4738-ff7b-31328cbd737b"
      },
      "outputs": [
        {
          "name": "stdout",
          "output_type": "stream",
          "text": [
            "Enter the year to display the calendar : 2022\n",
            "                                  2022\n",
            "\n",
            "      January                   February                   March\n",
            "Mo Tu We Th Fr Sa Su      Mo Tu We Th Fr Sa Su      Mo Tu We Th Fr Sa Su\n",
            "                1  2          1  2  3  4  5  6          1  2  3  4  5  6\n",
            " 3  4  5  6  7  8  9       7  8  9 10 11 12 13       7  8  9 10 11 12 13\n",
            "10 11 12 13 14 15 16      14 15 16 17 18 19 20      14 15 16 17 18 19 20\n",
            "17 18 19 20 21 22 23      21 22 23 24 25 26 27      21 22 23 24 25 26 27\n",
            "24 25 26 27 28 29 30      28                        28 29 30 31\n",
            "31\n",
            "\n",
            "       April                      May                       June\n",
            "Mo Tu We Th Fr Sa Su      Mo Tu We Th Fr Sa Su      Mo Tu We Th Fr Sa Su\n",
            "             1  2  3                         1             1  2  3  4  5\n",
            " 4  5  6  7  8  9 10       2  3  4  5  6  7  8       6  7  8  9 10 11 12\n",
            "11 12 13 14 15 16 17       9 10 11 12 13 14 15      13 14 15 16 17 18 19\n",
            "18 19 20 21 22 23 24      16 17 18 19 20 21 22      20 21 22 23 24 25 26\n",
            "25 26 27 28 29 30         23 24 25 26 27 28 29      27 28 29 30\n",
            "                          30 31\n",
            "\n",
            "        July                     August                  September\n",
            "Mo Tu We Th Fr Sa Su      Mo Tu We Th Fr Sa Su      Mo Tu We Th Fr Sa Su\n",
            "             1  2  3       1  2  3  4  5  6  7                1  2  3  4\n",
            " 4  5  6  7  8  9 10       8  9 10 11 12 13 14       5  6  7  8  9 10 11\n",
            "11 12 13 14 15 16 17      15 16 17 18 19 20 21      12 13 14 15 16 17 18\n",
            "18 19 20 21 22 23 24      22 23 24 25 26 27 28      19 20 21 22 23 24 25\n",
            "25 26 27 28 29 30 31      29 30 31                  26 27 28 29 30\n",
            "\n",
            "      October                   November                  December\n",
            "Mo Tu We Th Fr Sa Su      Mo Tu We Th Fr Sa Su      Mo Tu We Th Fr Sa Su\n",
            "                1  2          1  2  3  4  5  6                1  2  3  4\n",
            " 3  4  5  6  7  8  9       7  8  9 10 11 12 13       5  6  7  8  9 10 11\n",
            "10 11 12 13 14 15 16      14 15 16 17 18 19 20      12 13 14 15 16 17 18\n",
            "17 18 19 20 21 22 23      21 22 23 24 25 26 27      19 20 21 22 23 24 25\n",
            "24 25 26 27 28 29 30      28 29 30                  26 27 28 29 30 31\n",
            "31\n",
            "\n"
          ]
        }
      ],
      "source": [
        "import calendar\n",
        "year = int(input(\"Enter the year to display the calendar : \"))\n",
        "print(calendar.calendar(year))"
      ]
    },
    {
      "cell_type": "code",
      "execution_count": 1,
      "metadata": {
        "id": "e0QItykpFrox"
      },
      "outputs": [],
      "source": [
        "## 4. Write a Python program to solve quadratic equation?"
      ]
    },
    {
      "cell_type": "code",
      "source": [
        "import math\n",
        "a = int(input(\"Enter the constant a of the qudratic equation:  \"))\n",
        "b = int(input(\"Enter the constant b of the qudratic equation:  \"))\n",
        "c = int(input(\"Enter the constant c of the qudratic equation:  \"))\n",
        "root=b**2 - 4*a*c\n",
        "sqrt=math.sqrt(abs(root))\n",
        "if root > 0:\n",
        "  print(\"The roots are real and distinct\")\n",
        "  print((-b + sqrt) /(2*a))\n",
        "  print((-b - sqrt) /(2*a))\n",
        "elif root == 0:\n",
        "  print(\"The roots are real and same\")\n",
        "  print((-b + sqrt) /(2*a))\n",
        "else:\n",
        "  print(\"The roots are complex\")\n",
        "  print(-b  /(2*a),\"+i\", sqrt)\n",
        "  print(-b  /(2*a),\"-i\", sqrt)\n",
        "\n"
      ],
      "metadata": {
        "colab": {
          "base_uri": "https://localhost:8080/"
        },
        "id": "0ZX39RP0LTg7",
        "outputId": "12e4135b-68ff-4ac8-bcde-5e848aaf81cb"
      },
      "execution_count": 11,
      "outputs": [
        {
          "output_type": "stream",
          "name": "stdout",
          "text": [
            "Enter the constant a of the qudratic equation:  1\n",
            "Enter the constant b of the qudratic equation:  -5\n",
            "Enter the constant c of the qudratic equation:  6\n",
            "The roots are real and distinct\n",
            "3.0\n",
            "2.0\n"
          ]
        }
      ]
    },
    {
      "cell_type": "code",
      "source": [
        "## 5. Write a Python program to swap two variables without temp variable?"
      ],
      "metadata": {
        "id": "iAC1QaP4F0K5"
      },
      "execution_count": 2,
      "outputs": []
    },
    {
      "cell_type": "code",
      "source": [
        "value1 = int(input(\"Enter the first value : \"))\n",
        "value2 = int(input(\"Enter the second value : \"))\n",
        "\n",
        "value1 = value1 + value2\n",
        "value2 = value1 - value2\n",
        "value1 = value1 - value2\n",
        "\n",
        "print(\"Now value1 is :\",value1,\"and value2 is :\",value2)"
      ],
      "metadata": {
        "colab": {
          "base_uri": "https://localhost:8080/"
        },
        "id": "HY82xzIxF3KH",
        "outputId": "bf65969b-b230-4556-d4ea-3643bafbba7a"
      },
      "execution_count": 3,
      "outputs": [
        {
          "output_type": "stream",
          "name": "stdout",
          "text": [
            "Enter the first value : 1\n",
            "Enter the second value : 2\n",
            "Now value1 is : 2 and value2 is : 1\n"
          ]
        }
      ]
    }
  ],
  "metadata": {
    "kernelspec": {
      "display_name": "Python 3",
      "language": "python",
      "name": "python3"
    },
    "language_info": {
      "codemirror_mode": {
        "name": "ipython",
        "version": 3
      },
      "file_extension": ".py",
      "mimetype": "text/x-python",
      "name": "python",
      "nbconvert_exporter": "python",
      "pygments_lexer": "ipython3",
      "version": "3.6.5"
    },
    "colab": {
      "name": "Programming_Assignment_2.ipynb",
      "provenance": []
    }
  },
  "nbformat": 4,
  "nbformat_minor": 0
}