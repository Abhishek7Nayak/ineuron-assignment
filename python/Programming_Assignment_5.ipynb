{
  "nbformat": 4,
  "nbformat_minor": 0,
  "metadata": {
    "colab": {
      "name": "Programming_Assignment_5",
      "provenance": []
    },
    "kernelspec": {
      "name": "python3",
      "display_name": "Python 3"
    },
    "language_info": {
      "name": "python"
    }
  },
  "cells": [
    {
      "cell_type": "code",
      "execution_count": null,
      "metadata": {
        "id": "NRLc9c-iBd5P"
      },
      "outputs": [],
      "source": [
        "#1. Write a Python Program to Find LCM?"
      ]
    },
    {
      "cell_type": "code",
      "source": [
        "num1 = int(input(\"Enter the first integer to find the LCM : \"))\n",
        "num2 = int(input(\"Enter the Second integer to find the LCM : \"))\n",
        "\n",
        "if num1 > num2:\n",
        "  greater = num1\n",
        "else :\n",
        "  greater = num2\n",
        "\n",
        "\n",
        "while(True):\n",
        "  if((greater % num1 == 0) and (greater % num2 == 0)):\n",
        "    lcm = greater\n",
        "    break\n",
        "  greater = greater + 1\n",
        "print(\"The LCM of\", num1, \"and\", num2,\"is : \", lcm)"
      ],
      "metadata": {
        "colab": {
          "base_uri": "https://localhost:8080/"
        },
        "id": "9ERFp0KCnqTs",
        "outputId": "a8e95739-c278-4e35-f726-b687de78e315"
      },
      "execution_count": null,
      "outputs": [
        {
          "output_type": "stream",
          "name": "stdout",
          "text": [
            "Enter the first integer to find the LCM : 3\n",
            "Enter the Second integer to find the LCM : 7\n",
            "The LCM of 3 and 7 is :  21\n"
          ]
        }
      ]
    },
    {
      "cell_type": "code",
      "source": [
        "##2. Write a Python Program to Find HCF?"
      ],
      "metadata": {
        "id": "0mn0n6Z7nwRl"
      },
      "execution_count": null,
      "outputs": []
    },
    {
      "cell_type": "code",
      "source": [
        "num1 = int(input(\"Enter the first integer to find the HCF : \"))\n",
        "num2 = int(input(\"Enter the Second integer to find the HCF : \"))\n",
        "if num1 > num2:\n",
        "  lowest = num2\n",
        "else :\n",
        "  lowest = num1\n",
        "\n",
        "\n",
        "for i in range(1,lowest +1):\n",
        "  if((num1 % i == 0) and (num2 % i == 0)):\n",
        "    hcf = i\n",
        "\n",
        "print(\"The HCF of\", num1, \"and\", num2,\"is : \", hcf)"
      ],
      "metadata": {
        "colab": {
          "base_uri": "https://localhost:8080/"
        },
        "id": "xjq_0YqnnzfU",
        "outputId": "dbeb07a9-2f2c-4441-840a-18446c84ccac"
      },
      "execution_count": null,
      "outputs": [
        {
          "output_type": "stream",
          "name": "stdout",
          "text": [
            "Enter the first integer to find the HCF : 3\n",
            "Enter the Second integer to find the HCF : 7\n",
            "The HCF of 3 and 7 is :  1\n"
          ]
        }
      ]
    },
    {
      "cell_type": "code",
      "source": [
        "## 3. Write a Python Program to Convert Decimal to Binary, Octal and Hexadecimal?\n"
      ],
      "metadata": {
        "id": "byClC_lREH_U"
      },
      "execution_count": null,
      "outputs": []
    },
    {
      "cell_type": "code",
      "source": [
        "def decimal_to_binary_octal_hexadecimla(num):\n",
        "  num1 = num\n",
        "  num2 = num\n",
        "  l = ''\n",
        "\n",
        "  while(num >1):\n",
        "    rem = num % 2\n",
        "    num = num //2\n",
        "    l= l + str(rem)\n",
        "  l= l + str(num)\n",
        "  # l.reverse()\n",
        "  print(\"The Binary number of decimal number\", num1,\"is :\",l[::-1])\n",
        "\n",
        "  num = num1\n",
        "  l = ''\n",
        "\n",
        "  while(num >1):\n",
        "    rem = num % 8\n",
        "    num = num //8\n",
        "    l= l + str(rem)\n",
        "  # l.append(num)\n",
        "  # l.reverse()\n",
        "  print(\"The Octal number of decimal number\", num1,\"is :\",l[::-1])\n",
        "\n",
        "  num = num2\n",
        "  l = ''\n",
        "\n",
        "  while(num >1):\n",
        "    rem = num % 16\n",
        "    num = num //16\n",
        "    l= l + str(rem)\n",
        "  # l.append(num)\n",
        "  # l.reverse()\n",
        "  print(\"The Hexadecimal number of decimal number\", num1,\"is :\",l[::-1])"
      ],
      "metadata": {
        "id": "riorDkPyn-VP"
      },
      "execution_count": 28,
      "outputs": []
    },
    {
      "cell_type": "code",
      "source": [
        "num = int(input(\"Enter a decimal number to convert to Binary , Octal , Hexadecimal number : \"))\n",
        "decimal_to_binary_octal_hexadecimla(num)"
      ],
      "metadata": {
        "colab": {
          "base_uri": "https://localhost:8080/"
        },
        "id": "BDBmfizkLbM4",
        "outputId": "a5c1c5a4-6363-4b03-d12b-76bd7b442c76"
      },
      "execution_count": 29,
      "outputs": [
        {
          "output_type": "stream",
          "name": "stdout",
          "text": [
            "Enter a decimal number to convert to Binary , Octal , Hexadecimal number : 16\n",
            "The Binary number of decimal number 16 is : 10000\n",
            "The Octal number of decimal number 16 is : 20\n",
            "The Hexadecimal number of decimal number 16 is : 0\n"
          ]
        }
      ]
    },
    {
      "cell_type": "code",
      "source": [
        "## 4. Write a Python Program To Find ASCII value of a character?"
      ],
      "metadata": {
        "id": "a-nGX9FrEIR_"
      },
      "execution_count": null,
      "outputs": []
    },
    {
      "cell_type": "code",
      "source": [
        "def acii_value_of_character(a):\n",
        "  return ord(a)"
      ],
      "metadata": {
        "id": "zBzrmj1mLSNn"
      },
      "execution_count": 30,
      "outputs": []
    },
    {
      "cell_type": "code",
      "source": [
        "a = input(\"Enter a character to find its ACII value : \")\n",
        "acii_value_of_character(a)"
      ],
      "metadata": {
        "colab": {
          "base_uri": "https://localhost:8080/"
        },
        "id": "Y94EJbV7LTUF",
        "outputId": "9be2ab8c-dd98-46f6-9cba-20c441c7a6b1"
      },
      "execution_count": 31,
      "outputs": [
        {
          "name": "stdout",
          "output_type": "stream",
          "text": [
            "Enter a character to find its ACII value : a\n"
          ]
        },
        {
          "output_type": "execute_result",
          "data": {
            "text/plain": [
              "97"
            ]
          },
          "metadata": {},
          "execution_count": 31
        }
      ]
    },
    {
      "cell_type": "code",
      "source": [
        "## 5. Write a Python Program to Make a Simple Calculator with 4 basic mathematical operations?"
      ],
      "metadata": {
        "id": "N50zif3bEIUY"
      },
      "execution_count": null,
      "outputs": []
    },
    {
      "cell_type": "code",
      "source": [
        "num1 = int(input(\"Enter the first number : \"))\n",
        "num2 = int(input(\"Enter the second number : \"))\n",
        "\n",
        "operation = input(\"Enter the operator to perform the opteration: \\n + : Addiction \\n - : Substraction \\n * : Multiplication \\n / : Division \\n\")\n",
        "if operation not in('+','-','*','/'):\n",
        "  print(\"Choose a valid operator \")\n",
        "if operation == '+':\n",
        "  print(\"The solution is :\")\n",
        "  print(num1 + num2)\n",
        "elif operation == '-':\n",
        "  print(\"The solution is :\")\n",
        "  print(num1 - num2)\n",
        "elif operation == '*':\n",
        "  print(\"The solution is :\")\n",
        "  print(num1 * num2)\n",
        "else :\n",
        "  print(\"The solution is :\")\n",
        "  print(num1 / num2)"
      ],
      "metadata": {
        "colab": {
          "base_uri": "https://localhost:8080/"
        },
        "id": "GRoO0uhVBolf",
        "outputId": "312ff958-8951-4880-da0c-9edc0bc69ce8"
      },
      "execution_count": null,
      "outputs": [
        {
          "output_type": "stream",
          "name": "stdout",
          "text": [
            "Enter the first number : 1\n",
            "Enter the second number : 2\n",
            "Enter the operator to perform the opteration: \n",
            " + : Addiction \n",
            " - : Substraction \n",
            " * : Multiplication \n",
            " / : Division \n",
            "+\n",
            "The solution is :\n",
            "3\n"
          ]
        }
      ]
    }
  ]
}